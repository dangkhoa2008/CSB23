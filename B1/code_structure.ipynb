{
 "cells": [
  {
   "cell_type": "markdown",
   "id": "c242b16d",
   "metadata": {},
   "source": [
    "# Cấu trúc tuần tự"
   ]
  },
  {
   "cell_type": "markdown",
   "id": "45105dda",
   "metadata": {},
   "source": [
    "- Chạy code từ dòng trên xuống dưới\n",
    "- nếu dòng trên sai -> lập tức dừng các dòng lệnh dưới"
   ]
  },
  {
   "cell_type": "code",
   "execution_count": null,
   "id": "8320a434",
   "metadata": {},
   "outputs": [],
   "source": [
    "print(1)\n",
    "print(int(\"abc\")) # vì dòng này sai -> ko chạy tiếp\n",
    "print(2)"
   ]
  },
  {
   "cell_type": "markdown",
   "id": "8fb69ee7",
   "metadata": {},
   "source": [
    "# Cấu trúc rẽ nhánh"
   ]
  },
  {
   "cell_type": "markdown",
   "id": "7c270b14",
   "metadata": {},
   "source": [
    "## if - elif - else"
   ]
  },
  {
   "cell_type": "code",
   "execution_count": null,
   "id": "953fc6e5",
   "metadata": {},
   "outputs": [],
   "source": [
    "# Viết tắt cấu trúc if - else\n",
    "\"abc\" if True else \"xyz\" # nếu True thì in ra \"abc\", nếu False thì in ra \"xyz\"\n",
    "\"abc\" or \"\" # có thể áp dungj toán tử logic\n",
    "\n",
    "# Viết tắt câu lệnh if 1 dòng\n",
    "if True: print(\"abc\") # nếu True thì in ra \"abc\", nếu False thì ko làm gì cả\n",
    "\n",
    "# if - elif -else (kiểm tra khoảng)\n",
    "x = 10\n",
    "if 0 <= x <= 100:\n",
    "    print(\"x nằm trong khoảng từ 0 đến 100\")\n",
    "elif 100 < x <= 200:\n",
    "    print(\"x nằm trong khoảng từ 100 đến 200\")\n",
    "else:\n",
    "    print(\"x ko hợp lệ!\")"
   ]
  },
  {
   "cell_type": "markdown",
   "id": "12626de3",
   "metadata": {},
   "source": [
    "## Try except\n",
    "Thường dùng để bắt lỗi cho chương trình\n",
    "=> **Ko cần dừng chương trình đang hoạt động**"
   ]
  },
  {
   "cell_type": "code",
   "execution_count": null,
   "id": "15a9ee61",
   "metadata": {},
   "outputs": [],
   "source": [
    "# Kiểm tra kiểu dữ liệu nhập vào\n",
    "\n",
    "age = input(\"nhập tuổi của bạn: \") # return kiểu str\n",
    "try:\n",
    "    age = int(age) # Chuyển đổi sang kiểu int\n",
    "    if age < 0:\n",
    "        raise ValueError(\"Tuổi ko thể là số âm\")\n",
    "except Exception as e:\n",
    "    print(f\"Lỗi: {e}\")\n",
    "finally: # Dòng này sẽ luôn chạy dù có lỗi hay không\n",
    "    print(\"Kết thúc chương trình kiểm tra tuổi.\")"
   ]
  },
  {
   "cell_type": "markdown",
   "id": "9655c597",
   "metadata": {},
   "source": [
    "# Cấu trúc lặp "
   ]
  },
  {
   "cell_type": "markdown",
   "id": "2bd18ad2",
   "metadata": {},
   "source": [
    "## For (thường dùng với danh sách)"
   ]
  },
  {
   "cell_type": "markdown",
   "id": "70f130ce",
   "metadata": {},
   "source": [
    "**range(start, stop, step)**\n",
    "- range(stop): chạy từ 0 -> stop - 1, mỗi lần cộng dồn 1 đơn vị\n",
    "- range(start, stop): start -> stop - 1, mỗi lần cộng dồn 1 đơn vị\n",
    "-range(start, stop, step): start -> stop - 1, mỗi lần cộng dồn step đơn vị \n"
   ]
  },
  {
   "cell_type": "code",
   "execution_count": null,
   "id": "a34af21f",
   "metadata": {},
   "outputs": [],
   "source": [
    "# Đếm ngược thời gian\n",
    "import time\n",
    "\n",
    "for sec in range(10, 0, -1):\n",
    "    print(sec)\n",
    "    time.sleep(1) # Dừng 1 giây trước khi in kí tự tiếp theo\n",
    "print(\"Chúc mừng năm mới!\")"
   ]
  },
  {
   "cell_type": "code",
   "execution_count": null,
   "id": "eefe7731",
   "metadata": {},
   "outputs": [],
   "source": [
    "# Duyệt phần tử trong danh sách\n",
    "fruits = [\"apple\", \"banana\", \"cherry\"]\n",
    "for index, value in enumerate(fruits):\n",
    "    print(f\"Phần tử thứ {index} là {value}\")"
   ]
  },
  {
   "cell_type": "markdown",
   "id": "aa904aab",
   "metadata": {},
   "source": [
    "## While\n",
    "Thường dùng cho các truongwf hợp **ko xác định số lần lập**"
   ]
  },
  {
   "cell_type": "code",
   "execution_count": null,
   "id": "446c29d7",
   "metadata": {},
   "outputs": [],
   "source": [
    "# Kiểm tra tính hợp lệ khi nhập dữ liệu\n",
    "age = int(input(\"Nhập tuổi của bạn (phải là số dương): \"))\n",
    "while age < 0:\n",
    "    print(\"Lỗi: Tuổi phải là số dương.\")\n",
    "    try:\n",
    "        age = int(input(\"Nhập tuổi của bạn (phải là số dương): \"))\n",
    "    except Exception as e:\n",
    "        print(f\"Lỗi: {e}\")\n",
    "        age = -1  # Đặt lại age để tiếp tục vòng lặp\n",
    "        \n",
    "print(f\"Tuổi của bạn là: {age}\")"
   ]
  }
 ],
 "metadata": {
  "kernelspec": {
   "display_name": "Python 3",
   "language": "python",
   "name": "python3"
  },
  "language_info": {
   "codemirror_mode": {
    "name": "ipython",
    "version": 3
   },
   "file_extension": ".py",
   "mimetype": "text/x-python",
   "name": "python",
   "nbconvert_exporter": "python",
   "pygments_lexer": "ipython3",
   "version": "3.undefined.undefined"
  }
 },
 "nbformat": 4,
 "nbformat_minor": 5
}

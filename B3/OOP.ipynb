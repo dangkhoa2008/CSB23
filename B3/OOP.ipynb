{
 "cells": [
  {
   "cell_type": "markdown",
   "id": "2801f11a",
   "metadata": {},
   "source": [
    "- OOP: class (bản vẽ): quy định **thuộc tính** + **phương thức** cho object (bản sao)\n",
    "- Mỗi class đều bắt buộc có 1 def __init__(hàm khởi tạo) \n",
    "- Tên class **viết hoa chữ đầu**.\n",
    "- **4 Tính chất**:\n",
    "  - Kế thừa\n",
    "  - Đóng gói\n",
    "  - Trừu tượng\n",
    "  - Đa hình\n",
    "- *Note: mỗi class được tạo ra, **mặc định được kế thừa từ class Object** trong thư viện Python*\n",
    "    - Nếu không khai báo hàm khởi tạo -> chương trình sẽ lấy init mặc định từ Object\n"
   ]
  },
  {
   "cell_type": "code",
   "execution_count": null,
   "id": "59ebf9c2",
   "metadata": {},
   "outputs": [],
   "source": [
    "# Tạo class Animal: age, sound, name, hàm speak in ra tiếng kêu, hàm action\n",
    "# Tạo class Dog, Duck, Bird: chỉnh sửa lại hàm str để có thể in ra thông tin của các con vật\n",
    "# Mỗi con vật có action riêng"
   ]
  },
  {
   "cell_type": "code",
   "execution_count": 5,
   "id": "5b8a6c3c",
   "metadata": {},
   "outputs": [],
   "source": [
    "class Animal:\n",
    "    # ham khoi tao (nhung thuoc tinh can nguoi dung truyen vao)\n",
    "    def __init__(self, name:str, age:int, sound:str):\n",
    "        # __prop: private\n",
    "        self.__name = name\n",
    "        self.__age = age\n",
    "        self.__sound = sound\n",
    "    # getter/ setter (tinh dong goi)\n",
    "    def getName(self):\n",
    "        return self.__name\n",
    "    def getName(self, name):\n",
    "        self.__name = name\n",
    "    def getAge(self):\n",
    "        return self.__age\n",
    "    def getAge(self, age):\n",
    "        self.__age = age\n",
    "\n",
    "    # tinh dâ hinh\n",
    "    def speak(self):\n",
    "        return self.name + \" speaks \" + self.__sound\n",
    "    # tinh truu tuong\n",
    "    def action(self):..."
   ]
  },
  {
   "cell_type": "code",
   "execution_count": null,
   "id": "4200147a",
   "metadata": {},
   "outputs": [],
   "source": [
    "# tinh ke thua\n",
    "class Bird(Animal):\n",
    "    def __init__ (self, name, age):\n",
    "        # lay code tu init lop cha\n",
    "        super().__init__(name, age, \"chip\")\n",
    "    def action(self):\n",
    "        print(\"chim bay\")\n",
    "    def __str__(self):\n",
    "        # ghi de code cu -> tinh da hinh\n",
    "        return \"Bird: \" + self.__name \n",
    "    \n",
    "class Dog(Animal):\n",
    "    def __init__ (self, name, age):\n",
    "        # lay code tu init lop cha\n",
    "        super().__init__(name, age, \"gau\")\n",
    "    def action(self):\n",
    "        print(\"cun chay\")\n",
    "    def __str__(self):\n",
    "        # ghi de code cu -> tinh da hinh\n",
    "        return \"Dog: \" + self.__name \n",
    "    \n",
    "class Duck(Animal):\n",
    "    def __init__ (self, name, age):\n",
    "        # lay code tu init lop cha\n",
    "        super().__init__(name, age, \"qoac\")\n",
    "    def action(self):\n",
    "        print(\"vit boi\")\n",
    "    def __str__(self):\n",
    "        # ghi de code cu -> tinh da hinh\n",
    "        return \"Duck: \" + self.__name \n",
    "    \n",
    "    "
   ]
  }
 ],
 "metadata": {
  "kernelspec": {
   "display_name": "Python 3",
   "language": "python",
   "name": "python3"
  },
  "language_info": {
   "codemirror_mode": {
    "name": "ipython",
    "version": 3
   },
   "file_extension": ".py",
   "mimetype": "text/x-python",
   "name": "python",
   "nbconvert_exporter": "python",
   "pygments_lexer": "ipython3",
   "version": "3.9.6"
  }
 },
 "nbformat": 4,
 "nbformat_minor": 5
}

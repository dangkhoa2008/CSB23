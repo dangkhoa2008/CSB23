{
 "cells": [
  {
   "cell_type": "markdown",
   "id": "2801f11a",
   "metadata": {},
   "source": [
    "- OOP: class (bản vẽ): quy định **thuộc tính** + **phương thức** cho object (bản sao)\n",
    "- Mỗi class đều bắt buộc có 1 def __init__(hàm khởi tạo) \n",
    "- Tên class **viết hoa chữ đầu**.\n",
    "- **4 Tính chất**:\n",
    "  - Kế thừa\n",
    "  - Đóng gói\n",
    "  - Trừu tượng\n",
    "  - Đa hình\n",
    "- *Note: mỗi class được tạo ra, **mặc định được kế thừa từ class Object** trong thư viện Python*\n",
    "    - Nếu không khai báo hàm khởi tạo -> chương trình sẽ lấy init mặc định từ Object\n"
   ]
  },
  {
   "cell_type": "code",
   "execution_count": null,
   "id": "59ebf9c2",
   "metadata": {},
   "outputs": [],
   "source": [
    "# Tạo class Animal: age, sound, name, hàm speak in ra tiếng kêu, hàm action\n",
    "# Tạo class Dog, Duck, Bird: chỉnh sửa lại hàm str để có thể in ra thông tin của các con vật\n",
    "# Mỗi con vật có action riêng"
   ]
  },
  {
   "cell_type": "code",
   "execution_count": 5,
   "id": "5b8a6c3c",
   "metadata": {},
   "outputs": [],
   "source": [
    "class Animal:\n",
    "    # ham khoi tao (nhung thuoc tinh can nguoi dung truyen vao)\n",
    "    def __init__(self, name:str, age:int, sound:str):\n",
    "        # __prop: private\n",
    "        self.__name = name\n",
    "        self.__age = age\n",
    "        self.__sound = sound\n",
    "    # getter/ setter (tinh dong goi)\n",
    "    def getName(self):\n",
    "        return self.__name\n",
    "    def getName(self, name):\n",
    "        self.__name = name\n",
    "    def getAge(self):\n",
    "        return self.__age\n",
    "    def getAge(self, age):\n",
    "        self.__age = age\n",
    "\n",
    "    # tinh dâ hinh\n",
    "    def speak(self):\n",
    "        return self.name + \" speaks \" + self.__sound\n",
    "    # tinh truu tuong\n",
    "    def action(self):..."
   ]
  },
  {
   "cell_type": "code",
   "execution_count": 1,
   "id": "4200147a",
   "metadata": {},
   "outputs": [
    {
     "ename": "NameError",
     "evalue": "name 'Animal' is not defined",
     "output_type": "error",
     "traceback": [
      "\u001b[0;31m---------------------------------------------------------------------------\u001b[0m",
      "\u001b[0;31mNameError\u001b[0m                                 Traceback (most recent call last)",
      "Cell \u001b[0;32mIn[1], line 2\u001b[0m\n\u001b[1;32m      1\u001b[0m \u001b[38;5;66;03m# tinh ke thua\u001b[39;00m\n\u001b[0;32m----> 2\u001b[0m \u001b[38;5;28;01mclass\u001b[39;00m\u001b[38;5;250m \u001b[39m\u001b[38;5;21;01mBird\u001b[39;00m(\u001b[43mAnimal\u001b[49m):\n\u001b[1;32m      3\u001b[0m     \u001b[38;5;28;01mdef\u001b[39;00m\u001b[38;5;250m \u001b[39m\u001b[38;5;21m__init__\u001b[39m (\u001b[38;5;28mself\u001b[39m, name, age):\n\u001b[1;32m      4\u001b[0m         \u001b[38;5;66;03m# lay code tu init lop cha\u001b[39;00m\n\u001b[1;32m      5\u001b[0m         \u001b[38;5;28msuper\u001b[39m()\u001b[38;5;241m.\u001b[39m\u001b[38;5;21m__init__\u001b[39m(name, age, \u001b[38;5;124m\"\u001b[39m\u001b[38;5;124mchip\u001b[39m\u001b[38;5;124m\"\u001b[39m)\n",
      "\u001b[0;31mNameError\u001b[0m: name 'Animal' is not defined"
     ]
    }
   ],
   "source": [
    "# tinh ke thua\n",
    "class Bird(Animal):\n",
    "    def __init__ (self, name, age):\n",
    "        # lay code tu init lop cha\n",
    "        super().__init__(name, age, \"chip\")\n",
    "    def action(self):\n",
    "        print(\"chim bay\")\n",
    "    def __str__(self):\n",
    "        # ghi de code cu -> tinh da hinh\n",
    "        return \"Bird: \" + self.getName "
   ]
  },
  {
   "cell_type": "code",
   "execution_count": null,
   "id": "35dbbabd",
   "metadata": {},
   "outputs": [],
   "source": [
    "class Dog(Animal):\n",
    "    def __init__ (self, name, age):\n",
    "        # lay code tu init lop cha\n",
    "        super().__init__(name, age, \"gau\")\n",
    "    def action(self):\n",
    "        print(\"cun chay\")\n",
    "    def __str__(self):\n",
    "        # ghi de code cu -> tinh da hinh\n",
    "        return \"Dog: \" + self.__name "
   ]
  },
  {
   "cell_type": "code",
   "execution_count": null,
   "id": "59b84df4",
   "metadata": {},
   "outputs": [],
   "source": [
    "class Duck(Animal):\n",
    "    def __init__ (self, name, age):\n",
    "        # lay code tu init lop cha\n",
    "        super().__init__(name, age, \"qoac\")\n",
    "    def action(self):\n",
    "        print(\"vit boi\")\n",
    "    def __str__(self):\n",
    "        # ghi de code cu -> tinh da hinh\n",
    "        return \"Duck: \" + self.__name "
   ]
  }
 ],
 "metadata": {
  "kernelspec": {
   "display_name": "Python 3",
   "language": "python",
   "name": "python3"
  },
  "language_info": {
   "codemirror_mode": {
    "name": "ipython",
    "version": 3
   },
   "file_extension": ".py",
   "mimetype": "text/x-python",
   "name": "python",
   "nbconvert_exporter": "python",
   "pygments_lexer": "ipython3",
   "version": "3.9.6"
  }
 },
 "nbformat": 4,
 "nbformat_minor": 5
}

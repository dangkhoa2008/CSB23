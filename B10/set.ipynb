{
 "cells": [
  {
   "cell_type": "markdown",
   "id": "b990021d",
   "metadata": {},
   "source": [
    "## đặc điểm:\n",
    "- **ko trùng lặp** phần tử\n",
    "- phần tử **ko có thứ tự**\n",
    "- có thể thay đổi (**mutable**)"
   ]
  },
  {
   "cell_type": "code",
   "execution_count": 2,
   "id": "eb8177a2",
   "metadata": {},
   "outputs": [
    {
     "name": "stdout",
     "output_type": "stream",
     "text": [
      "<class 'dict'>\n"
     ]
    }
   ],
   "source": [
    "# khai báo\n",
    "set1 = {} # set rỗng -> ko khai báo có {} -> set()\n",
    "print(type(set1))\n",
    "set2 = {\"s\", \"b\", \"m\", \"s\"} # ko trùng lặp"
   ]
  },
  {
   "cell_type": "code",
   "execution_count": 3,
   "id": "5b46c693",
   "metadata": {},
   "outputs": [
    {
     "name": "stdout",
     "output_type": "stream",
     "text": [
      "m\n",
      "b\n",
      "s\n"
     ]
    }
   ],
   "source": [
    "# truy cập phần tử (for in)\n",
    "for item in set2:\n",
    "    print(item)"
   ]
  },
  {
   "cell_type": "code",
   "execution_count": null,
   "id": "2f75a7e3",
   "metadata": {},
   "outputs": [],
   "source": [
    "# thêm\n",
    "set2.add(\"new\")\n",
    "print(set2)\n",
    "\n",
    "set2.update({\"new1\", \"new2\"}) # tham so: la 1 danh sach\n",
    "print(set2)"
   ]
  },
  {
   "cell_type": "code",
   "execution_count": null,
   "id": "c003be27",
   "metadata": {},
   "outputs": [],
   "source": [
    "# xoá (dựa vào giá trị của phần tử)\n",
    "# set2.remove(\"apple\") # ko co -> BAO LOI\n",
    "\n",
    "set2.discard(\"apple\") # ko co -> ko bao loi "
   ]
  },
  {
   "cell_type": "markdown",
   "id": "05152792",
   "metadata": {},
   "source": [
    "## Phép toán:"
   ]
  },
  {
   "cell_type": "markdown",
   "id": "ccb6b699",
   "metadata": {},
   "source": [
    "### Phép hợp:\n",
    "- phép cộng 2 set\n",
    "- sử dụng hàm: set.union(set)\n",
    "- hoặc sử dụng toán tử '|' (or) \n",
    "- **Trả về 1 mảng mới** chứa tất cả các phần tử của 2 mảng ban đầu."
   ]
  },
  {
   "cell_type": "code",
   "execution_count": null,
   "id": "0e029850",
   "metadata": {},
   "outputs": [],
   "source": [
    "back_end = {\"nodejs\", \"spring\", \"flask\", \"nextjs\"}\n",
    "front_end = {\"nextjs\", \"nodejs\", \"react\", \"angular\"}\n",
    "print(f\"Skills need to learned: {back_end | front_end}\")\n",
    "print(f\"Skills need to learned: {back_end.union(front_end)}\")"
   ]
  },
  {
   "cell_type": "markdown",
   "id": "8da9e336",
   "metadata": {},
   "source": [
    "### Phép giao (intersection):\n",
    "- Lấy **phần tử có ở cả 2** set.\n",
    "- sử dụng hàm: **set.intersection(set)**\n",
    "- Hoặc sử dụng toán tử '&' (and)\n",
    "- **Trả về 1 mảng mới** chứa tất cả các phần tử của 2 mảng ban đầu"
   ]
  },
  {
   "cell_type": "code",
   "execution_count": null,
   "id": "f908d710",
   "metadata": {},
   "outputs": [],
   "source": [
    "print(f\"Skills need to learned: {back_end & front_end}\")\n",
    "print(f\"Skills need to learned: {back_end.intersection(front_end)}\")"
   ]
  },
  {
   "cell_type": "markdown",
   "id": "dbe1bd4a",
   "metadata": {},
   "source": [
    "### Phép giao (subtraction):\n",
    "- **Lấy phần tử của mảng trừ** (A) (ko lấy phần tử trùng trong mảng B)\n",
    "- sử dụng hàm: **set.difference(set)**\n",
    "- Hoặc sử dụng toán tử '-' (sub)\n",
    "- **Trả về 1 mảng mới** chứa tất cả các phần tử của 2 mảng ban đầu"
   ]
  },
  {
   "cell_type": "code",
   "execution_count": null,
   "id": "299be269",
   "metadata": {},
   "outputs": [],
   "source": [
    "print(f\"Skills need to learned: {back_end - front_end}\")\n",
    "print(f\"Skills need to learned: {back_end.difference(front_end)}\")"
   ]
  }
 ],
 "metadata": {
  "kernelspec": {
   "display_name": "Python 3",
   "language": "python",
   "name": "python3"
  },
  "language_info": {
   "codemirror_mode": {
    "name": "ipython",
    "version": 3
   },
   "file_extension": ".py",
   "mimetype": "text/x-python",
   "name": "python",
   "nbconvert_exporter": "python",
   "pygments_lexer": "ipython3",
   "version": "3.9.6"
  }
 },
 "nbformat": 4,
 "nbformat_minor": 5
}

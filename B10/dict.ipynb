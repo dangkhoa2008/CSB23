{
 "cells": [
  {
   "cell_type": "code",
   "execution_count": null,
   "id": "281d9d19",
   "metadata": {},
   "outputs": [],
   "source": [
    "dc = {\"prop1\": \"a\", 1: \"b\"}\n",
    "li = [\"a\", \"b\", \"c\", \"d\"]"
   ]
  },
  {
   "cell_type": "code",
   "execution_count": null,
   "id": "c5852836",
   "metadata": {},
   "outputs": [],
   "source": [
    "dc[\"prop1\"]"
   ]
  },
  {
   "cell_type": "markdown",
   "id": "0e730d9d",
   "metadata": {},
   "source": [
    "## Ánh xạ (mapping):\n",
    "- Sử dụng hàm: **map(func, iterable)**\n",
    "- Trả về kiểu dữ liệu **map** -> **ép về kiểu dữ liệu cũ** sau khi map"
   ]
  },
  {
   "cell_type": "code",
   "execution_count": null,
   "id": "1ad383b5",
   "metadata": {},
   "outputs": [],
   "source": [
    "# cho danh sách họ và tên -> xuất ra danh sách chỉ lấy tên\n",
    "from faker import Faker\n",
    "name_list = [ faker.name() for _ in range(20)]\n",
    "name_list "
   ]
  },
  {
   "cell_type": "code",
   "execution_count": null,
   "id": "e428607c",
   "metadata": {},
   "outputs": [],
   "source": [
    "name_list = names = [\n",
    "    \"Emma Johnson\",\n",
    "    \"Liam Smith\",\n",
    "    \"Olivia Brown\",\n",
    "    \"Noah Garcia\",\n",
    "    \"Ava Martinez\",\n",
    "    \"Elijah Davis\",\n",
    "    \"Sophia Taylor\",\n",
    "    \"James Miller\",\n",
    "    \"Isabella Wilson\",\n",
    "    \"Benjamin Anderson\",\n",
    "    \"Mia Thomas\",\n",
    "    \"Lucas Moore\",\n",
    "    \"Charlotte Martin\",\n",
    "    \"Henry Lee\",\n",
    "    \"Amelia White\",\n",
    "    \"Alexander Harris\",\n",
    "    \"Harper Clark\",\n",
    "    \"Ethan Lewis\",\n",
    "    \"Evelyn Young\",\n",
    "    \"William Hall\"\n",
    "]\n"
   ]
  },
  {
   "cell_type": "code",
   "execution_count": null,
   "id": "81a303e3",
   "metadata": {},
   "outputs": [],
   "source": [
    "first_name = map(lambda: fullName.split()[0].upper(), names)\n",
    "print(list(first_name))"
   ]
  },
  {
   "cell_type": "markdown",
   "id": "217763af",
   "metadata": {},
   "source": [
    "## Dictionary:\n",
    "- sử dụng cơ chế mapping: **key** -> **value**\n",
    "- **không** có chỉ số **index**\n",
    "- **Key là duy "
   ]
  },
  {
   "cell_type": "code",
   "execution_count": null,
   "id": "3dd626d9",
   "metadata": {},
   "outputs": [],
   "source": []
  }
 ],
 "metadata": {
  "language_info": {
   "name": "python"
  }
 },
 "nbformat": 4,
 "nbformat_minor": 5
}

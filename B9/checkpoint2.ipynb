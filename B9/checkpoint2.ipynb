{
 "cells": [
  {
   "cell_type": "markdown",
   "id": "d9398cf6",
   "metadata": {},
   "source": [
    "1 B\n",
    "2 B\n",
    "3 C\n",
    "4 A\n",
    "5 B\n",
    "6 C\n",
    "7 C\n",
    "8 D\n",
    "9 C\n",
    "10 C"
   ]
  },
  {
   "cell_type": "code",
   "execution_count": null,
   "id": "d983ce35",
   "metadata": {},
   "outputs": [],
   "source": [
    "def merge_arrays(nums1, nums2):\n",
    "    new_array = []\n",
    "    i = 0 \n",
    "    j = 0 \n",
    "    len_nums1 = len(nums1)\n",
    "    len_nums2 = len(nums2)\n",
    "    while i < len_nums1 and j < len_nums2:\n",
    "        if nums1[i] <= nums2[j]:\n",
    "            new_array.append(nums1[i])\n",
    "            i += 1\n",
    "        else:\n",
    "            new_array.append(nums2[j])\n",
    "            j += 1\n",
    "    while i < len_nums1:\n",
    "        new_array.append(nums1[i])\n",
    "        i += 1\n",
    "    while j < len_nums2:\n",
    "        new_array.append(nums2[j])\n",
    "        j += 1\n",
    "    return new_array\n",
    "nums1 = [1, 2, 3]\n",
    "nums2 = [2, 5, 6]\n",
    "result = merge_arrays(nums1, nums2)\n",
    "print(result)"
   ]
  }
 ],
 "metadata": {
  "kernelspec": {
   "display_name": "Python 3",
   "language": "python",
   "name": "python3"
  },
  "language_info": {
   "name": "python",
   "version": "3.9.6"
  }
 },
 "nbformat": 4,
 "nbformat_minor": 5
}

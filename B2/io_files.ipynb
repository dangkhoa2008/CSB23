{
 "cells": [
  {
   "cell_type": "markdown",
   "id": "18665415",
   "metadata": {},
   "source": [
    "# Đọc file"
   ]
  },
  {
   "cell_type": "code",
   "execution_count": null,
   "id": "b1202c8a",
   "metadata": {},
   "outputs": [],
   "source": [
    "# tao bien luu file duoc goi\n",
    "file = open(\"data.txt\", \"r\")\n",
    "# read(): đọc hết dữ liệu => return: string\n",
    "data = file.read()\n",
    "print(data)\n",
    "# readline(): đọc từng dòng => return: string\n",
    "data = file.readline()\n",
    "print(data)\n",
    "# readlines(): đọc hêt dữ liệu (lấy luôn kí tự đặc biệt) => return: list \n",
    "data = file.readlines()\n",
    "print(data)\n",
    "\n",
    "# đóng file\n",
    "file.close()"
   ]
  },
  {
   "cell_type": "markdown",
   "id": "3399df92",
   "metadata": {},
   "source": [
    "# Ghi file"
   ]
  },
  {
   "cell_type": "code",
   "execution_count": 1,
   "id": "3824a1ad",
   "metadata": {},
   "outputs": [],
   "source": [
    "# w: ghi đè file cũ hoặc tạo mới nếu chưa có\n",
    "# x: tạo mới và ghi vào, nếu đã có file -> báo lỗi\n",
    "with open(\"new_data.txt\", \"w\", encoding=\"utf-16\") as file:\n",
    "    # ghi 1 dong\n",
    "    file.write(\"Chào bạn!\")\n",
    "    # ghi nhieu dong\n",
    "    file.write(\"\\n\")\n",
    "    file.write(\"Python\\t\")\n",
    "\n",
    "# a: append, ghi tiep du lieu trong file (bổ sung vào cuối file)\n",
    "with open(\"new_data.txt\", \"a\") as file:\n",
    "    # viet nhieu dong \n",
    "    file.writelines([\"abc\\n\", \"xyz\\n\", \"123\\n\"])"
   ]
  }
 ],
 "metadata": {
  "kernelspec": {
   "display_name": "Python 3",
   "language": "python",
   "name": "python3"
  },
  "language_info": {
   "codemirror_mode": {
    "name": "ipython",
    "version": 3
   },
   "file_extension": ".py",
   "mimetype": "text/x-python",
   "name": "python",
   "nbconvert_exporter": "python",
   "pygments_lexer": "ipython3",
   "version": "3.9.6"
  }
 },
 "nbformat": 4,
 "nbformat_minor": 5
}

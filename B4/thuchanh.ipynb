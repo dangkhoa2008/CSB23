{
 "cells": [
  {
   "cell_type": "markdown",
   "id": "c185a9b7",
   "metadata": {},
   "source": [
    "1 D\n",
    "2 B\n",
    "3 A\n",
    "4 B \n",
    "5 C\n",
    "6 A\n",
    "7 A\n",
    "8 B\n",
    "9 C\n",
    "10 A"
   ]
  },
  {
   "cell_type": "code",
   "execution_count": null,
   "id": "f9b62a13",
   "metadata": {},
   "outputs": [],
   "source": [
    "class Student:\n",
    "    def __init__(self, name):\n",
    "        self.name = name\n",
    "        self.grades = []\n",
    "\n",
    "    def add_grade(self, grade):\n",
    "        self.grades.append(grade)\n",
    "\n",
    "    def calculate_average(self):\n",
    "        if not self.grades:\n",
    "            return 0\n",
    "        return sum(self.grades) / len(self.grades)\n",
    "\n"
   ]
  }
 ],
 "metadata": {
  "language_info": {
   "name": "python"
  }
 },
 "nbformat": 4,
 "nbformat_minor": 5
}

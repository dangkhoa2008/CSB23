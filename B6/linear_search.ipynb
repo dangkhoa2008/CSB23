{
 "cells": [
  {
   "cell_type": "markdown",
   "id": "8cbf2d25",
   "metadata": {},
   "source": [
    "Duyệt qua từng phần tử trong danh sách -> kiểm tra giá trị -> return index \n",
    "<br>\n",
    "Không tìm thấy -> return -1"
   ]
  },
  {
   "cell_type": "code",
   "execution_count": null,
   "id": "1362cd77",
   "metadata": {},
   "outputs": [],
   "source": [
    "def linear_search(arr, target):\n",
    "    # danh sach rong\n",
    "    if not arr: return -1\n",
    "    # duyet phan tu\n",
    "    for index, value in enumerate(arr):\n",
    "        # neu tim thay phan tu\n",
    "        if value == target: return index\n",
    "        # ket thuc vong for -> ko tim thay\n",
    "        return -1"
   ]
  },
  {
   "cell_type": "code",
   "execution_count": null,
   "id": "a1b768f1",
   "metadata": {},
   "outputs": [],
   "source": [
    "import sys\n",
    "import os\n",
    "# them duong dan cho thu muc running_time.py\n",
    "module_path = os.path.abspath(os.path.join(os.path.dirname('../running_time')))\n",
    "if module_path not in sys.path:\n",
    "    sys.path.append(module_path)\n",
    "\n",
    "from running_time import running_time\n",
    "\n",
    "#test\n",
    "arr = [100, 1000, 9, 21, 545, 323, 4544, 878, 767, 86, -1, -1009, 0]\n",
    "running_time(lambda: linear_search(arr, 100))\n",
    "running_time(lambda: linear_search(arr, -5555))\n",
    "running_time(lambda: linear_search([], 0))\n"
   ]
  }
 ],
 "metadata": {
  "language_info": {
   "name": "python"
  }
 },
 "nbformat": 4,
 "nbformat_minor": 5
}

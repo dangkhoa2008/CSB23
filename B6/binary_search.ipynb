{
 "cells": [
  {
   "cell_type": "markdown",
   "id": "0ecb6826",
   "metadata": {},
   "source": [
    "chia doi danh sách de tim kiem\n",
    "<br>\n",
    "**Do phuc tap: O(log2(n))**"
   ]
  },
  {
   "cell_type": "code",
   "execution_count": null,
   "id": "78abac2d",
   "metadata": {},
   "outputs": [],
   "source": [
    "def binary_search_loop(arr, target):\n",
    "    # danh sach rong\n",
    "    if not arr: return -1\n",
    "    # tao mid, start, end\n",
    "    start, end = 0, len(arr) - 1\n",
    "    mid = (end - start) // 2 + start\n",
    "\n",
    "    # lap tu start den end\n",
    "    while start <= end:\n",
    "        # =\n",
    "        if arr[mid] == target:\n",
    "            return mid\n",
    "        # <\n",
    "        if arr[mid] < target:\n",
    "            return mid + 1\n",
    "        # >\n",
    "        else:\n",
    "            end = mid - 1\n",
    "        # cap nhat mid\n",
    "        mid = (end - start) // 2 + start\n",
    "    # ket thuc vong while -> k tim thay\n",
    "    return -1"
   ]
  },
  {
   "cell_type": "code",
   "execution_count": 8,
   "id": "b8e48b00",
   "metadata": {},
   "outputs": [],
   "source": [
    "import timeit\n",
    "import random\n",
    "arr = [ random.randint(-10, 100) for _ in range(10000)]\n",
    "arr.sort()"
   ]
  },
  {
   "cell_type": "code",
   "execution_count": null,
   "id": "1e9e1d27",
   "metadata": {},
   "outputs": [
    {
     "name": "stdout",
     "output_type": "stream",
     "text": [
      "do thoi gian tim kiem:  0.013261297999974886\n"
     ]
    }
   ],
   "source": [
    "# number (timeit) = do trung binh cho n lan chay\n",
    "print(\"do thoi gian tim kiem: \", timeit.timeit(lambda: binary_search_loop(arr, -300), number=1000))"
   ]
  },
  {
   "cell_type": "markdown",
   "id": "1751de2c",
   "metadata": {},
   "source": [
    "Code đe quy"
   ]
  },
  {
   "cell_type": "code",
   "execution_count": null,
   "id": "a7d1a95d",
   "metadata": {},
   "outputs": [],
   "source": [
    "def binary_search_recursive(arr, target, start, end):\n",
    "    # het lan chay\n",
    "    if start > end: return -1\n",
    "    # tao mid\n",
    "    mid = (end - start) // 2 + start\n",
    "    # neu tim thay\n",
    "    if arr[mid] == target:\n",
    "            return mid\n",
    "    # neu < target\n",
    "    elif arr[mid] < target:\n",
    "        return binary_search_recursive(arr, target, mid + 1, end) # de quy\n",
    "    else:\n",
    "        return binary_search_recursive(arr, target, start, mid - 1) # de quy"
   ]
  },
  {
   "cell_type": "code",
   "execution_count": null,
   "id": "e050b9cf",
   "metadata": {},
   "outputs": [],
   "source": [
    "import timeit\n",
    "import random\n",
    "arr2 = [ random.rndint(-10, 100) for _ in range(10000)]\n",
    "arr2.sort()\n",
    "# ham lambda\n",
    "def a(): return run(arr2, random.randint(-100, 1000))\n",
    "exe_time = timeit.timeit(a, number=1000)\n",
    "print(f\"ket qua tim kiem: {a()}\")\n",
    "print(\"do thoi gian tim kiem: \", exe_time)\n"
   ]
  }
 ],
 "metadata": {
  "kernelspec": {
   "display_name": "Python 3",
   "language": "python",
   "name": "python3"
  },
  "language_info": {
   "codemirror_mode": {
    "name": "ipython",
    "version": 3
   },
   "file_extension": ".py",
   "mimetype": "text/x-python",
   "name": "python",
   "nbconvert_exporter": "python",
   "pygments_lexer": "ipython3",
   "version": "3.9.6"
  }
 },
 "nbformat": 4,
 "nbformat_minor": 5
}

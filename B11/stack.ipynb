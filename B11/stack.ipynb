{
 "cells": [
  {
   "cell_type": "markdown",
   "id": "e1fe2a36",
   "metadata": {},
   "source": [
    "## Stack\n",
    "- **Ngăn xếp (Stack)** là một kiểu danh sách mà thao tác thêm và xóa phần tử được thực hiện ở **cuối danh sách**.\n",
    "- Stack là kiểu dữ liệu **Last In - First Out** (**LIFO**).\n",
    "- **Độ phức tạp** của các thao tác thêm/ xóa: **O(1)**"
   ]
  },
  {
   "cell_type": "markdown",
   "id": "bafe2e5b",
   "metadata": {},
   "source": [
    "### khai báo (sử dụng list để biểu diễn stack)"
   ]
  },
  {
   "cell_type": "code",
   "execution_count": null,
   "id": "19bedf8d",
   "metadata": {},
   "outputs": [],
   "source": [
    "\n",
    "stack = [54, 2, 45]"
   ]
  },
  {
   "cell_type": "markdown",
   "id": "612d7277",
   "metadata": {},
   "source": [
    "### Peek: truy cập phần tử"
   ]
  },
  {
   "cell_type": "code",
   "execution_count": null,
   "id": "98cebae0",
   "metadata": {},
   "outputs": [],
   "source": [
    "stack[-1] # lay phan tu cuoi cung "
   ]
  },
  {
   "cell_type": "markdown",
   "id": "7e7a3302",
   "metadata": {},
   "source": [
    "### Push: thêm phần tử vào đỉnh stack"
   ]
  },
  {
   "cell_type": "code",
   "execution_count": null,
   "id": "12dacea1",
   "metadata": {},
   "outputs": [],
   "source": [
    "stack.append(12)\n",
    "stack"
   ]
  },
  {
   "cell_type": "markdown",
   "id": "e0f601e7",
   "metadata": {},
   "source": [
    "### Pop: xoá + trả phần tử ở *đỉnh stack* "
   ]
  },
  {
   "cell_type": "code",
   "execution_count": null,
   "id": "f78714ce",
   "metadata": {},
   "outputs": [],
   "source": [
    "stack.pop()"
   ]
  },
  {
   "cell_type": "markdown",
   "id": "f7f3ba9f",
   "metadata": {},
   "source": [
    "### Kiểm tra rỗng"
   ]
  },
  {
   "cell_type": "code",
   "execution_count": null,
   "id": "c535703a",
   "metadata": {},
   "outputs": [],
   "source": [
    "if len(stack) == 0:\n",
    "    print(\"Empty\")\n",
    "else:\n",
    "    print(stack)\n",
    "     "
   ]
  }
 ],
 "metadata": {
  "kernelspec": {
   "display_name": "Python 3",
   "language": "python",
   "name": "python3"
  },
  "language_info": {
   "name": "python",
   "version": "3.9.6"
  }
 },
 "nbformat": 4,
 "nbformat_minor": 5
}

{
 "cells": [
  {
   "cell_type": "markdown",
   "id": "451c9d93",
   "metadata": {},
   "source": [
    "- thuật toán nói bọt 0(n^2)\n",
    "- chạy vòng lặp + bắt cặp -> swap ngay trong vòng"
   ]
  },
  {
   "cell_type": "code",
   "execution_count": null,
   "id": "87fcad76",
   "metadata": {},
   "outputs": [],
   "source": [
    "def bubble_sort(arr):\n",
    "    for i in range(len(arr)):\n",
    "        swapped = False # bien kiem tra co thay doi khong   \n",
    "        for j in range(0, len(arr) - i - 1):\n",
    "            if arr[j] > arr[j+1]:\n",
    "                # swap\n",
    "                arr[j], arr[j+1] = arr[j+1], arr[j]\n",
    "                swapped = True\n",
    "        if not swapped:\n",
    "            break\n",
    "    return arr"
   ]
  },
  {
   "cell_type": "code",
   "execution_count": null,
   "id": "d270d558",
   "metadata": {},
   "outputs": [],
   "source": [
    "# test\n",
    "import random\n",
    "import timeit\n",
    "arr = random.sample(range(1000), 1000)\n",
    "print(arr[:10])\n",
    "exc_time = timeit.timeit(lambda: bubble_sort(arr), number=1000)\n",
    "print(bubble_sort(arr)[:10])\n",
    "print(f\"Time: {exc_time:.4f} s\")"
   ]
  }
 ],
 "metadata": {
  "kernelspec": {
   "display_name": "Python 3",
   "language": "python",
   "name": "python3"
  },
  "language_info": {
   "name": "python",
   "version": "3.9.6"
  }
 },
 "nbformat": 4,
 "nbformat_minor": 5
}

{
 "cells": [
  {
   "cell_type": "markdown",
   "id": "9284f17f",
   "metadata": {},
   "source": [
    "- Thuật toán chèn O(n^2)\n",
    "- Input: mảng chưa sắp xếp\n",
    "- Output: mảng đã sắp xếp"
   ]
  },
  {
   "cell_type": "code",
   "execution_count": null,
   "id": "e89e3bbf",
   "metadata": {},
   "outputs": [],
   "source": [
    "def insertion_sort(arr):\n",
    "    # duyet qua tung phan tu -> tim vi tri nho nhat\n",
    "    for index in range(1, len(arr)):\n",
    "        insert_index = index       \n",
    "        current_value = arr.pop(index) # xoa phan tu tai index\n",
    "        for j in range(index - 1, -1, -1):\n",
    "            if arr[j] > current_value:\n",
    "                insert_index = j\n",
    "        arr.insert(insert_index, current_value) # them lai phan tu vao vi tri moi \n",
    "    return arr"
   ]
  },
  {
   "cell_type": "code",
   "execution_count": null,
   "id": "1798d208",
   "metadata": {},
   "outputs": [],
   "source": [
    "# test\n",
    "import random\n",
    "import timeit\n",
    "arr = random.sample(range(1000), 1000)\n",
    "print(arr[:10])\n",
    "exc_time = timeit.timeit(lambda: insertion_sort(arr), number=1000)\n",
    "print(insertion_sort(arr)[:10])\n",
    "print(f\"Time: {exc_time:.4f} s\")"
   ]
  }
 ],
 "metadata": {
  "kernelspec": {
   "display_name": "Python 3",
   "language": "python",
   "name": "python3"
  },
  "language_info": {
   "name": "python",
   "version": "3.9.6"
  }
 },
 "nbformat": 4,
 "nbformat_minor": 5
}
